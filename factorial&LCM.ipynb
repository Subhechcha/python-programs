{
 "cells": [
  {
   "cell_type": "code",
   "execution_count": 17,
   "metadata": {},
   "outputs": [
    {
     "name": "stdout",
     "output_type": "stream",
     "text": [
      " write the number whose factorial you want to find out5\n",
      "120\n"
     ]
    }
   ],
   "source": [
    "num=input(\" write the number whose factorial you want to find out\")\n",
    "num=int(num)\n",
    "factorial=1\n",
    "for i in range(1,num+1):\n",
    "    factorial=factorial*i\n",
    "print(factorial)\n"
   ]
  },
  {
   "cell_type": "code",
   "execution_count": 2,
   "metadata": {},
   "outputs": [
    {
     "name": "stdout",
     "output_type": "stream",
     "text": [
      "give first numbers12\n",
      "give second number15\n",
      "3\n"
     ]
    }
   ],
   "source": [
    "\n",
    "x=input(\"give first numbers\")\n",
    "y=input(\"give second number\")\n",
    "x=int(x)\n",
    "y=int(y) \n",
    "if(x > y):\n",
    "    smaller = y\n",
    "else:\n",
    "    smaller = x\n",
    "for i in range(1,smaller+1):\n",
    "    if(x%i==0 and y%i==0):\n",
    "        hcf=i \n",
    "print(hcf)\n"
   ]
  },
  {
   "cell_type": "code",
   "execution_count": 23,
   "metadata": {},
   "outputs": [
    {
     "name": "stdout",
     "output_type": "stream",
     "text": [
      "give a number5\n",
      "prime\n",
      "prime\n",
      "prime\n"
     ]
    }
   ],
   "source": [
    "x=input(\"give a number\")\n",
    "x=int(x)\n",
    "for i in range(2,x):\n",
    "    if(x%i)==0:\n",
    "        print(\"not prime\")\n",
    "        break\n",
    "    else:\n",
    "        print(\"prime\")\n",
    "\n"
   ]
  },
  {
   "cell_type": "markdown",
   "metadata": {},
   "source": [
    "### "
   ]
  },
  {
   "cell_type": "code",
   "execution_count": null,
   "metadata": {},
   "outputs": [],
   "source": []
  }
 ],
 "metadata": {
  "kernelspec": {
   "display_name": "Python 3",
   "language": "python",
   "name": "python3"
  },
  "language_info": {
   "codemirror_mode": {
    "name": "ipython",
    "version": 3
   },
   "file_extension": ".py",
   "mimetype": "text/x-python",
   "name": "python",
   "nbconvert_exporter": "python",
   "pygments_lexer": "ipython3",
   "version": "3.6.5"
  }
 },
 "nbformat": 4,
 "nbformat_minor": 2
}
