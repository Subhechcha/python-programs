{
 "cells": [
  {
   "cell_type": "code",
   "execution_count": 105,
   "metadata": {},
   "outputs": [
    {
     "name": "stdout",
     "output_type": "stream",
     "text": [
      "[2, 3, 8]\n",
      "[1, 4]\n"
     ]
    }
   ],
   "source": [
    "arr=[2,7,4,4,7,9,9,2,4,3,1]\n",
    "a=7\n",
    "b=4\n",
    "list1=[]\n",
    "for i in range(len(arr)):\n",
    "    if(arr[i]==4):\n",
    "        list1.append(i)\n",
    "print(list1)\n",
    "list2=[]\n",
    "for i in range(len(arr)):\n",
    "    if(arr[i]==7):\n",
    "        list2.append(i)\n",
    "print(list2)\n",
    "    \n",
    "    \n",
    "    \n",
    "\n"
   ]
  },
  {
   "cell_type": "code",
   "execution_count": 127,
   "metadata": {},
   "outputs": [
    {
     "name": "stdout",
     "output_type": "stream",
     "text": [
      "1\n"
     ]
    }
   ],
   "source": [
    "list3=[]\n",
    "for i in range(len(list1)):\n",
    "     for j in range(len(list2)):\n",
    "            list3.append(abs(list1[i]-list2[j]))\n",
    "print(min(list3))"
   ]
  },
  {
   "cell_type": "code",
   "execution_count": null,
   "metadata": {},
   "outputs": [],
   "source": []
  }
 ],
 "metadata": {
  "kernelspec": {
   "display_name": "Python 3",
   "language": "python",
   "name": "python3"
  },
  "language_info": {
   "codemirror_mode": {
    "name": "ipython",
    "version": 3
   },
   "file_extension": ".py",
   "mimetype": "text/x-python",
   "name": "python",
   "nbconvert_exporter": "python",
   "pygments_lexer": "ipython3",
   "version": "3.6.5"
  }
 },
 "nbformat": 4,
 "nbformat_minor": 2
}
