{
 "cells": [
  {
   "cell_type": "code",
   "execution_count": null,
   "metadata": {
    "scrolled": true
   },
   "outputs": [],
   "source": [
    "n=input(\"What is your name?\")\n",
    "print(\"HELLO\", n)\n",
    "print(\"how are you doing\",n,\"?\")"
   ]
  },
  {
   "cell_type": "code",
   "execution_count": 4,
   "metadata": {},
   "outputs": [
    {
     "name": "stdout",
     "output_type": "stream",
     "text": [
      "what is the cost?150\n",
      "the discounted price is, 135.0\n"
     ]
    }
   ],
   "source": [
    "c=input(\"what is the cost?\")\n",
    "d=int(c)\n",
    "answer=0.9*d\n",
    "print(\"the discounted price is,\" ,answer)"
   ]
  },
  {
   "cell_type": "code",
   "execution_count": null,
   "metadata": {},
   "outputs": [],
   "source": [
    "c=input(\"enter any number\")\n",
    "d=int(c)\n",
    "if(d==1):\n",
    "    print(\"you entered one\")\n",
    "if(d==2):\n",
    "    print(\"you entered two\")\n"
   ]
  },
  {
   "cell_type": "code",
   "execution_count": null,
   "metadata": {},
   "outputs": [],
   "source": []
  }
 ],
 "metadata": {
  "kernelspec": {
   "display_name": "Python 3",
   "language": "python",
   "name": "python3"
  },
  "language_info": {
   "codemirror_mode": {
    "name": "ipython",
    "version": 3
   },
   "file_extension": ".py",
   "mimetype": "text/x-python",
   "name": "python",
   "nbconvert_exporter": "python",
   "pygments_lexer": "ipython3",
   "version": "3.6.5"
  }
 },
 "nbformat": 4,
 "nbformat_minor": 2
}
